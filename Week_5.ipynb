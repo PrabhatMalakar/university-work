{
  "nbformat": 4,
  "nbformat_minor": 0,
  "metadata": {
    "colab": {
      "provenance": [],
      "authorship_tag": "ABX9TyNg4BGdp97qagpjNQsVmpQK",
      "include_colab_link": true
    },
    "kernelspec": {
      "name": "python3",
      "display_name": "Python 3"
    },
    "language_info": {
      "name": "python"
    }
  },
  "cells": [
    {
      "cell_type": "markdown",
      "metadata": {
        "id": "view-in-github",
        "colab_type": "text"
      },
      "source": [
        "<a href=\"https://colab.research.google.com/github/PrabhatMalakar/university-work/blob/main/Week_5.ipynb\" target=\"_parent\"><img src=\"https://colab.research.google.com/assets/colab-badge.svg\" alt=\"Open In Colab\"/></a>"
      ]
    },
    {
      "cell_type": "markdown",
      "source": [
        "# WEEK 5 EXERCISES"
      ],
      "metadata": {
        "id": "mGFjBLjMGTEa"
      }
    },
    {
      "cell_type": "markdown",
      "source": [
        "1. Use SymPy to:"
      ],
      "metadata": {
        "id": "UFpyo96EMuFl"
      }
    },
    {
      "cell_type": "code",
      "execution_count": 1,
      "metadata": {
        "id": "Mz7WcfzJECSx"
      },
      "outputs": [],
      "source": [
        "#import all of the functions from the SymPy library.\n",
        "from sympy import *"
      ]
    },
    {
      "cell_type": "code",
      "source": [
        "#Declare symbolic objects.\n",
        "n , x , y = symbols(\"n x y \")"
      ],
      "metadata": {
        "id": "i55iW2DEEbiZ"
      },
      "execution_count": 8,
      "outputs": []
    },
    {
      "cell_type": "code",
      "source": [
        "# Factorization.\n",
        "factor(x**3 - y**3)"
      ],
      "metadata": {
        "colab": {
          "base_uri": "https://localhost:8080/",
          "height": 38
        },
        "id": "rLVPdRDNEtM7",
        "outputId": "bc586bc8-d17b-4c4e-9d74-14bc68f17564"
      },
      "execution_count": 3,
      "outputs": [
        {
          "output_type": "execute_result",
          "data": {
            "text/plain": [
              "(x - y)*(x**2 + x*y + y**2)"
            ],
            "text/latex": "$\\displaystyle \\left(x - y\\right) \\left(x^{2} + x y + y^{2}\\right)$"
          },
          "metadata": {},
          "execution_count": 3
        }
      ]
    },
    {
      "cell_type": "code",
      "source": [
        "# Solve equation x**2-7x-30=0 .\n",
        "# note that you dont put \"=0\" in the command line.\n",
        "solve(x**2 - 7 * x - 30 , x)"
      ],
      "metadata": {
        "colab": {
          "base_uri": "https://localhost:8080/"
        },
        "id": "AlgO4Wq7E_1H",
        "outputId": "d6becb61-405c-44ec-ee4c-6fae2949c5c7"
      },
      "execution_count": 4,
      "outputs": [
        {
          "output_type": "execute_result",
          "data": {
            "text/plain": [
              "[-3, 10]"
            ]
          },
          "metadata": {},
          "execution_count": 4
        }
      ]
    },
    {
      "cell_type": "code",
      "source": [
        "# splitting into partial fractions\n",
        "apart(3*x / ((x - 1 ) * (x + 2) * (x - 5)))"
      ],
      "metadata": {
        "colab": {
          "base_uri": "https://localhost:8080/",
          "height": 55
        },
        "id": "2kH99fqtFrU7",
        "outputId": "850d61c5-28ea-4556-9221-62eb422a2e05"
      },
      "execution_count": 22,
      "outputs": [
        {
          "output_type": "execute_result",
          "data": {
            "text/plain": [
              "-2/(7*(x + 2)) - 1/(4*(x - 1)) + 15/(28*(x - 5))"
            ],
            "text/latex": "$\\displaystyle - \\frac{2}{7 \\left(x + 2\\right)} - \\frac{1}{4 \\left(x - 1\\right)} + \\frac{15}{28 \\left(x - 5\\right)}$"
          },
          "metadata": {},
          "execution_count": 22
        }
      ]
    },
    {
      "cell_type": "code",
      "source": [
        "# expanding an expression.\n",
        "expand((y + x - 3)*(x**2 - y +4))"
      ],
      "metadata": {
        "colab": {
          "base_uri": "https://localhost:8080/",
          "height": 38
        },
        "id": "iIdk62VgHbjw",
        "outputId": "6d50f61a-1ae0-4ff8-925e-ba1ddc08eeac"
      },
      "execution_count": 16,
      "outputs": [
        {
          "output_type": "execute_result",
          "data": {
            "text/plain": [
              "x**3 + x**2*y - 3*x**2 - x*y + 4*x - y**2 + 7*y - 12"
            ],
            "text/latex": "$\\displaystyle x^{3} + x^{2} y - 3 x^{2} - x y + 4 x - y^{2} + 7 y - 12$"
          },
          "metadata": {},
          "execution_count": 16
        }
      ]
    },
    {
      "cell_type": "code",
      "source": [
        "# solving linear simultaneous equations.\n",
        "solve([2 * x + 2 - y , -3 * x + 1 - y] , [x , y])"
      ],
      "metadata": {
        "colab": {
          "base_uri": "https://localhost:8080/"
        },
        "id": "NSKiIoslJyvT",
        "outputId": "5b5a806c-1a66-41a1-ad4c-1e3ca1d66b31"
      },
      "execution_count": 25,
      "outputs": [
        {
          "output_type": "execute_result",
          "data": {
            "text/plain": [
              "{x: -1/5, y: 8/5}"
            ]
          },
          "metadata": {},
          "execution_count": 25
        }
      ]
    },
    {
      "cell_type": "markdown",
      "source": [
        "Compute the following using SymPy:"
      ],
      "metadata": {
        "id": "XnMVzqetM2tV"
      }
    },
    {
      "cell_type": "markdown",
      "source": [
        "$\\lim_ {x \\rightarrow 1} \\frac{x-1}{x^2-1}$"
      ],
      "metadata": {
        "id": "L8Y6q7BqOSib"
      }
    },
    {
      "cell_type": "code",
      "source": [
        "# using the limit function\n",
        "y= (x - 1) / (x**2 - 1)\n",
        "limit(y , x , 1)"
      ],
      "metadata": {
        "colab": {
          "base_uri": "https://localhost:8080/",
          "height": 51
        },
        "id": "R_JT4OLfM77T",
        "outputId": "f7035fa9-be2b-4e2f-e857-0f2ed5375100"
      },
      "execution_count": 26,
      "outputs": [
        {
          "output_type": "execute_result",
          "data": {
            "text/plain": [
              "1/2"
            ],
            "text/latex": "$\\displaystyle \\frac{1}{2}$"
          },
          "metadata": {},
          "execution_count": 26
        }
      ]
    },
    {
      "cell_type": "code",
      "source": [
        "# calculating derivative\n",
        "diff(x**2 -6*x + 9)"
      ],
      "metadata": {
        "colab": {
          "base_uri": "https://localhost:8080/",
          "height": 38
        },
        "id": "1xdsGsDYN7xz",
        "outputId": "85351567-f6f6-47ae-90bb-d18aa07bcce9"
      },
      "execution_count": 28,
      "outputs": [
        {
          "output_type": "execute_result",
          "data": {
            "text/plain": [
              "2*x - 6"
            ],
            "text/latex": "$\\displaystyle 2 x - 6$"
          },
          "metadata": {},
          "execution_count": 28
        }
      ]
    },
    {
      "cell_type": "code",
      "source": [
        "# derivative of cos(3x).\n",
        "diff(cos(3*x))"
      ],
      "metadata": {
        "colab": {
          "base_uri": "https://localhost:8080/",
          "height": 38
        },
        "id": "o9b6LJLjQL41",
        "outputId": "2a423265-c074-4f41-8883-127aa866675b"
      },
      "execution_count": 30,
      "outputs": [
        {
          "output_type": "execute_result",
          "data": {
            "text/plain": [
              "-3*sin(3*x)"
            ],
            "text/latex": "$\\displaystyle - 3 \\sin{\\left(3 x \\right)}$"
          },
          "metadata": {},
          "execution_count": 30
        }
      ]
    },
    {
      "cell_type": "code",
      "source": [
        "#derivative of 2e^x -1.\n",
        "from math import e\n",
        "diff((2 * e**x) - 1)"
      ],
      "metadata": {
        "colab": {
          "base_uri": "https://localhost:8080/",
          "height": 37
        },
        "id": "iRRI-NdxQUn5",
        "outputId": "2bd8eebd-e099-4f54-9b05-906d438caf28"
      },
      "execution_count": 35,
      "outputs": [
        {
          "output_type": "execute_result",
          "data": {
            "text/plain": [
              "2.0*2.71828182845905**x"
            ],
            "text/latex": "$\\displaystyle 2.0 \\cdot 2.71828182845905^{x}$"
          },
          "metadata": {},
          "execution_count": 35
        }
      ]
    },
    {
      "cell_type": "code",
      "source": [
        "#derivative of y =xsin(2x).\n",
        "diff(x * sin(2 * x))"
      ],
      "metadata": {
        "colab": {
          "base_uri": "https://localhost:8080/",
          "height": 38
        },
        "id": "lvTjotoYQvxN",
        "outputId": "13ef750a-c535-4090-bc9f-7a3475ed35a8"
      },
      "execution_count": 36,
      "outputs": [
        {
          "output_type": "execute_result",
          "data": {
            "text/plain": [
              "2*x*cos(2*x) + sin(2*x)"
            ],
            "text/latex": "$\\displaystyle 2 x \\cos{\\left(2 x \\right)} + \\sin{\\left(2 x \\right)}$"
          },
          "metadata": {},
          "execution_count": 36
        }
      ]
    },
    {
      "cell_type": "markdown",
      "source": [
        "Determine the following integrals using SymPy:"
      ],
      "metadata": {
        "id": "QeMSmtUmSHGU"
      }
    },
    {
      "cell_type": "code",
      "source": [
        "# indefinite integration.\n",
        "print(integrate(x**5) , \"+ c\")"
      ],
      "metadata": {
        "colab": {
          "base_uri": "https://localhost:8080/"
        },
        "id": "2eSWbPkRR1em",
        "outputId": "577aa005-0c83-401a-fb36-79e456fcda9e"
      },
      "execution_count": 37,
      "outputs": [
        {
          "output_type": "stream",
          "name": "stdout",
          "text": [
            "x**6/6 + c\n"
          ]
        }
      ]
    },
    {
      "cell_type": "code",
      "source": [
        "# definite integration.\n",
        "integrate(x**5 ,(x , 1 , 4))"
      ],
      "metadata": {
        "colab": {
          "base_uri": "https://localhost:8080/",
          "height": 51
        },
        "id": "i5urC80eS48a",
        "outputId": "e543fc7f-e469-497d-9b31-6485bd67933a"
      },
      "execution_count": 38,
      "outputs": [
        {
          "output_type": "execute_result",
          "data": {
            "text/plain": [
              "1365/2"
            ],
            "text/latex": "$\\displaystyle \\frac{1365}{2}$"
          },
          "metadata": {},
          "execution_count": 38
        }
      ]
    },
    {
      "cell_type": "code",
      "source": [
        "# 3 c.\n",
        "print(integrate(cos(3*x)), \"+ c\")"
      ],
      "metadata": {
        "colab": {
          "base_uri": "https://localhost:8080/"
        },
        "id": "8DP0Dw5rTQWR",
        "outputId": "88dd4b5f-fd95-42e7-bdec-74c159a4bb5b"
      },
      "execution_count": 39,
      "outputs": [
        {
          "output_type": "stream",
          "name": "stdout",
          "text": [
            "sin(3*x)/3 + c\n"
          ]
        }
      ]
    },
    {
      "cell_type": "code",
      "source": [
        "# 3 d.\n",
        "integrate(x * sin(x),(x , 0 , 1))"
      ],
      "metadata": {
        "colab": {
          "base_uri": "https://localhost:8080/",
          "height": 37
        },
        "id": "dwhORAraUAPY",
        "outputId": "ed71eda9-8c94-46fb-a631-fc14ed6c27df"
      },
      "execution_count": 40,
      "outputs": [
        {
          "output_type": "execute_result",
          "data": {
            "text/plain": [
              "-cos(1) + sin(1)"
            ],
            "text/latex": "$\\displaystyle - \\cos{\\left(1 \\right)} + \\sin{\\left(1 \\right)}$"
          },
          "metadata": {},
          "execution_count": 40
        }
      ]
    },
    {
      "cell_type": "code",
      "source": [
        "#using infinity sign\n",
        "integrate(1 / x , (x, 1 , oo))"
      ],
      "metadata": {
        "colab": {
          "base_uri": "https://localhost:8080/",
          "height": 37
        },
        "id": "iYEvVP2QUed_",
        "outputId": "6ac31046-1508-42db-df66-cb4ee1a135f6"
      },
      "execution_count": 41,
      "outputs": [
        {
          "output_type": "execute_result",
          "data": {
            "text/plain": [
              "oo"
            ],
            "text/latex": "$\\displaystyle \\infty$"
          },
          "metadata": {},
          "execution_count": 41
        }
      ]
    },
    {
      "cell_type": "markdown",
      "source": [
        "Given that $A=\\begin{pmatrix}\n",
        "1 & 2\\\\\n",
        "-1 & 0\n",
        "\\end{pmatrix}$ and $B=\\begin{pmatrix}\n",
        "1 & -4\\\\\n",
        "4 & 7\n",
        "\\end{pmatrix}$ determine:\n"
      ],
      "metadata": {
        "id": "U2UUpaibVWsC"
      }
    },
    {
      "cell_type": "code",
      "source": [
        "#define two 2X2 Matrices.\n",
        "A , B = Matrix([[1 , 2],[-1 , 0]]) , Matrix([[1 , -4],[4 , 7]])\n",
        "A , B"
      ],
      "metadata": {
        "colab": {
          "base_uri": "https://localhost:8080/"
        },
        "id": "XcgnYDEvU7Y1",
        "outputId": "0a7e5883-c144-4d5a-ea6d-f84c111d78c6"
      },
      "execution_count": 43,
      "outputs": [
        {
          "output_type": "execute_result",
          "data": {
            "text/plain": [
              "(Matrix([\n",
              " [ 1, 2],\n",
              " [-1, 0]]),\n",
              " Matrix([\n",
              " [1, -4],\n",
              " [4,  7]]))"
            ]
          },
          "metadata": {},
          "execution_count": 43
        }
      ]
    },
    {
      "cell_type": "code",
      "source": [
        "# Matrix algebra.\n",
        "2 * A"
      ],
      "metadata": {
        "colab": {
          "base_uri": "https://localhost:8080/",
          "height": 58
        },
        "id": "CXZJsDURW80K",
        "outputId": "a7140ea3-786d-452d-a910-b298b98272f2"
      },
      "execution_count": 44,
      "outputs": [
        {
          "output_type": "execute_result",
          "data": {
            "text/plain": [
              "Matrix([\n",
              "[ 2, 4],\n",
              "[-2, 0]])"
            ],
            "text/latex": "$\\displaystyle \\left[\\begin{matrix}2 & 4\\\\-2 & 0\\end{matrix}\\right]$"
          },
          "metadata": {},
          "execution_count": 44
        }
      ]
    },
    {
      "cell_type": "code",
      "source": [
        "# MAtrix algebra #2\n",
        "3 * A + 4 * B"
      ],
      "metadata": {
        "colab": {
          "base_uri": "https://localhost:8080/",
          "height": 58
        },
        "id": "oMKO7JYTXGbW",
        "outputId": "ab60e2d0-a84e-4523-dd38-705e4d929f96"
      },
      "execution_count": 45,
      "outputs": [
        {
          "output_type": "execute_result",
          "data": {
            "text/plain": [
              "Matrix([\n",
              "[ 7, -10],\n",
              "[13,  28]])"
            ],
            "text/latex": "$\\displaystyle \\left[\\begin{matrix}7 & -10\\\\13 & 28\\end{matrix}\\right]$"
          },
          "metadata": {},
          "execution_count": 45
        }
      ]
    },
    {
      "cell_type": "code",
      "source": [
        "# mutilplying matrices\n",
        "A * B"
      ],
      "metadata": {
        "colab": {
          "base_uri": "https://localhost:8080/",
          "height": 58
        },
        "id": "QKv5rxCQXSBP",
        "outputId": "e4f875a7-e642-4426-a594-eee28d9a75be"
      },
      "execution_count": 46,
      "outputs": [
        {
          "output_type": "execute_result",
          "data": {
            "text/plain": [
              "Matrix([\n",
              "[ 9, 10],\n",
              "[-1,  4]])"
            ],
            "text/latex": "$\\displaystyle \\left[\\begin{matrix}9 & 10\\\\-1 & 4\\end{matrix}\\right]$"
          },
          "metadata": {},
          "execution_count": 46
        }
      ]
    },
    {
      "cell_type": "code",
      "source": [
        "# inverse of a matrix\n",
        "B.inv()"
      ],
      "metadata": {
        "colab": {
          "base_uri": "https://localhost:8080/",
          "height": 58
        },
        "id": "6pURTRvlXc8u",
        "outputId": "a7a0c0f3-5b3c-40f8-85c2-78b3fb71319b"
      },
      "execution_count": 48,
      "outputs": [
        {
          "output_type": "execute_result",
          "data": {
            "text/plain": [
              "Matrix([\n",
              "[ 7/23, 4/23],\n",
              "[-4/23, 1/23]])"
            ],
            "text/latex": "$\\displaystyle \\left[\\begin{matrix}\\frac{7}{23} & \\frac{4}{23}\\\\- \\frac{4}{23} & \\frac{1}{23}\\end{matrix}\\right]$"
          },
          "metadata": {},
          "execution_count": 48
        }
      ]
    },
    {
      "cell_type": "code",
      "source": [
        "A.inv()"
      ],
      "metadata": {
        "colab": {
          "base_uri": "https://localhost:8080/",
          "height": 58
        },
        "id": "dr9c1ZPbXiBG",
        "outputId": "5c95fe30-487c-4fe1-fc66-9868a14fbf59"
      },
      "execution_count": 49,
      "outputs": [
        {
          "output_type": "execute_result",
          "data": {
            "text/plain": [
              "Matrix([\n",
              "[  0,  -1],\n",
              "[1/2, 1/2]])"
            ],
            "text/latex": "$\\displaystyle \\left[\\begin{matrix}0 & -1\\\\\\frac{1}{2} & \\frac{1}{2}\\end{matrix}\\right]$"
          },
          "metadata": {},
          "execution_count": 49
        }
      ]
    },
    {
      "cell_type": "code",
      "source": [
        "# determinant of a matrix.\n",
        "B.det()"
      ],
      "metadata": {
        "colab": {
          "base_uri": "https://localhost:8080/",
          "height": 37
        },
        "id": "nCPXIZHuXst1",
        "outputId": "47ff2af6-e63a-4e48-bde1-7caf53ae119c"
      },
      "execution_count": 50,
      "outputs": [
        {
          "output_type": "execute_result",
          "data": {
            "text/plain": [
              "23"
            ],
            "text/latex": "$\\displaystyle 23$"
          },
          "metadata": {},
          "execution_count": 50
        }
      ]
    },
    {
      "cell_type": "code",
      "source": [
        "A.det()"
      ],
      "metadata": {
        "colab": {
          "base_uri": "https://localhost:8080/",
          "height": 37
        },
        "id": "m2YDgWigX-RO",
        "outputId": "6e2e3a38-ea73-4a86-d915-b97c9f148d0f"
      },
      "execution_count": 51,
      "outputs": [
        {
          "output_type": "execute_result",
          "data": {
            "text/plain": [
              "2"
            ],
            "text/latex": "$\\displaystyle 2$"
          },
          "metadata": {},
          "execution_count": 51
        }
      ]
    },
    {
      "cell_type": "code",
      "source": [],
      "metadata": {
        "id": "4l-WyVHMYCdO"
      },
      "execution_count": null,
      "outputs": []
    }
  ]
}