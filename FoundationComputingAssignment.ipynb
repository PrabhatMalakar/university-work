{
  "nbformat": 4,
  "nbformat_minor": 0,
  "metadata": {
    "colab": {
      "provenance": [],
      "authorship_tag": "ABX9TyNOGWn1dObGO90pL3WyNPb6",
      "include_colab_link": true
    },
    "kernelspec": {
      "name": "python3",
      "display_name": "Python 3"
    },
    "language_info": {
      "name": "python"
    }
  },
  "cells": [
    {
      "cell_type": "markdown",
      "metadata": {
        "id": "view-in-github",
        "colab_type": "text"
      },
      "source": [
        "<a href=\"https://colab.research.google.com/github/PrabhatMalakar/university-work/blob/main/FoundationComputingAssignment.ipynb\" target=\"_parent\"><img src=\"https://colab.research.google.com/assets/colab-badge.svg\" alt=\"Open In Colab\"/></a>"
      ]
    },
    {
      "cell_type": "markdown",
      "source": [
        "# StudentID_23741337"
      ],
      "metadata": {
        "id": "X6JGKFfcam-V"
      }
    },
    {
      "cell_type": "markdown",
      "source": [
        "## 2. Compute the following:\n",
        "## (a)$\\frac{z}{5}$ + $\\frac{1}{5}$($\\frac{z}{7}$-$\\frac{1}{3}$), accurately;"
      ],
      "metadata": {
        "id": "5A1hgeqObB9M"
      }
    },
    {
      "cell_type": "markdown",
      "source": [
        "## cos($\\frac{\\pi}{5}$) - sin($\\frac{\\pi}{3})$, to five decimal places."
      ],
      "metadata": {
        "id": "_Ee3klxZcY3A"
      }
    },
    {
      "cell_type": "markdown",
      "source": [
        "## 3. The logistic map function, *f* say, is defined as:\n",
        "##*f*(x) = 3.5x(1-x).\n",
        "##Write a Python program that defines this function and use a loop to compute the first 20 iterates of:\n"
      ],
      "metadata": {
        "id": "G-1uvYmFc-oO"
      }
    },
    {
      "cell_type": "code",
      "source": [],
      "metadata": {
        "id": "Tqf2BQ4rc7Wu"
      },
      "execution_count": null,
      "outputs": []
    }
  ]
}